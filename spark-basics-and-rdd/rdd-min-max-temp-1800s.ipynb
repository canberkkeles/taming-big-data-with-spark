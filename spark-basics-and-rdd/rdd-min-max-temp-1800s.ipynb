{
	"cells": [
		{
			"cell_type": "code",
			"execution_count": null,
			"metadata": {
				"editable": true,
				"trusted": true,
				"vscode": {
					"languageId": "python_glue_session"
				}
			},
			"outputs": [],
			"source": [
				"%idle_timeout 2880\n",
				"%glue_version 4.0\n",
				"%worker_type G.1X\n",
				"%number_of_workers 5\n",
				"\n",
				"import sys\n",
				"from awsglue.transforms import *\n",
				"from awsglue.utils import getResolvedOptions\n",
				"from pyspark.context import SparkContext\n",
				"from awsglue.context import GlueContext\n",
				"from awsglue.job import Job\n",
				"  \n",
				"sc = SparkContext.getOrCreate()\n",
				"glueContext = GlueContext(sc)\n",
				"spark = glueContext.spark_session\n",
				"job = Job(glueContext)"
			]
		},
		{
			"cell_type": "code",
			"execution_count": null,
			"metadata": {
				"tags": [],
				"trusted": true,
				"vscode": {
					"languageId": "python_glue_session"
				}
			},
			"outputs": [],
			"source": [
				"def parseLines(lines):\n",
				"    fields = lines.split(\",\")\n",
				"    station_id = fields[0]\n",
				"    entry_type = fields[2]\n",
				"    temperature = float(fields[3]) / 10\n",
				"    return (station_id, entry_type, temperature)\n",
				"\n",
				"bucket_name = \"BUCKET_NAME\""
			]
		},
		{
			"cell_type": "code",
			"execution_count": null,
			"metadata": {
				"tags": [],
				"trusted": true,
				"vscode": {
					"languageId": "python_glue_session"
				}
			},
			"outputs": [],
			"source": [
				"lines = sc.textFile(bucket_name)\n",
				"rdd = lines.map(parseLines)\n",
				"rdd.take(5)"
			]
		},
		{
			"cell_type": "code",
			"execution_count": null,
			"metadata": {
				"tags": [],
				"trusted": true,
				"vscode": {
					"languageId": "python_glue_session"
				}
			},
			"outputs": [],
			"source": [
				"filtered_rdd = rdd.filter(lambda x: \"TMIN\" in x[1])\n",
				"results = filtered_rdd.map(lambda x: (x[0], x[2])).reduceByKey(lambda x, y: min(x, y)) # we should create a key-value RDD before applying reduce\n",
				"results.take(5)"
			]
		},
		{
			"cell_type": "markdown",
			"metadata": {},
			"source": [
				"## Exercise is to come up with maximum number of temperatures"
			]
		},
		{
			"cell_type": "code",
			"execution_count": null,
			"metadata": {
				"tags": [],
				"trusted": true,
				"vscode": {
					"languageId": "python_glue_session"
				}
			},
			"outputs": [],
			"source": [
				"def parseLines(lines):\n",
				"    fields = lines.split(\",\")\n",
				"    station_id = fields[0]\n",
				"    entry_type = fields[2]\n",
				"    temperature = float(fields[3]) / 10\n",
				"    return (station_id, entry_type, temperature)\n",
				"\n",
				"bucket_name = \"s3a://spark-course-ckeles/spark-basics-and-rdd/1800.csv\""
			]
		},
		{
			"cell_type": "code",
			"execution_count": null,
			"metadata": {
				"tags": [],
				"trusted": true,
				"vscode": {
					"languageId": "python_glue_session"
				}
			},
			"outputs": [],
			"source": [
				"lines = sc.textFile(bucket_name)\n",
				"rdd = lines.map(parseLines)\n",
				"rdd.take(5)"
			]
		},
		{
			"cell_type": "code",
			"execution_count": null,
			"metadata": {
				"tags": [],
				"trusted": true,
				"vscode": {
					"languageId": "python_glue_session"
				}
			},
			"outputs": [],
			"source": [
				"filtered_max_temp = rdd.filter(lambda x: x[1] == \"TMAX\")\n",
				"filtered_max_temp.take(5)"
			]
		},
		{
			"cell_type": "code",
			"execution_count": null,
			"metadata": {
				"tags": [],
				"trusted": true,
				"vscode": {
					"languageId": "python_glue_session"
				}
			},
			"outputs": [],
			"source": [
				"results = filtered_max_temp.map(lambda x: (x[0], x[2])).reduceByKey(lambda x, y: max(x, y))\n",
				"results.take(5)"
			]
		}
	],
	"metadata": {
		"kernelspec": {
			"display_name": "Glue PySpark",
			"language": "python",
			"name": "glue_pyspark"
		},
		"language_info": {
			"codemirror_mode": {
				"name": "python",
				"version": 3
			},
			"file_extension": ".py",
			"mimetype": "text/x-python",
			"name": "Python_Glue_Session",
			"pygments_lexer": "python3"
		}
	},
	"nbformat": 4,
	"nbformat_minor": 4
}
