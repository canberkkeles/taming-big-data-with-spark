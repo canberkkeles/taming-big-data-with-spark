{
	"cells": [
		{
			"cell_type": "code",
			"execution_count": null,
			"metadata": {
				"editable": true,
				"trusted": true,
				"vscode": {
					"languageId": "python_glue_session"
				}
			},
			"outputs": [],
			"source": [
				"%idle_timeout 2880\n",
				"%glue_version 4.0\n",
				"%worker_type G.1X\n",
				"%number_of_workers 5\n",
				"\n",
				"import sys\n",
				"from awsglue.transforms import *\n",
				"from awsglue.utils import getResolvedOptions\n",
				"from pyspark.context import SparkContext\n",
				"from awsglue.context import GlueContext\n",
				"from awsglue.job import Job\n",
				"  \n",
				"sc = SparkContext.getOrCreate()\n",
				"glueContext = GlueContext(sc)\n",
				"spark = glueContext.spark_session\n",
				"job = Job(glueContext)"
			]
		},
		{
			"cell_type": "code",
			"execution_count": null,
			"metadata": {
				"tags": [],
				"trusted": true,
				"vscode": {
					"languageId": "python_glue_session"
				}
			},
			"outputs": [],
			"source": [
				"bucket_name = \"BUCKET_NAME\"\n",
				"lines = sc.textFile(bucket_name)\n",
				"words_rdd = lines.flatMap(lambda x : x.split())\n",
				"words_rdd.take(5)"
			]
		},
		{
			"cell_type": "code",
			"execution_count": null,
			"metadata": {
				"collapsed": true,
				"jupyter": {
					"outputs_hidden": true
				},
				"tags": [],
				"trusted": true,
				"vscode": {
					"languageId": "python_glue_session"
				}
			},
			"outputs": [],
			"source": [
				"word_counts = words_rdd.countByValue()\n",
				"for word, count in word_counts.items():\n",
				"    clean_word = word.encode('ascii', 'ignore')\n",
				"    if clean_word:\n",
				"        print(clean_word, count)\n",
				"\n",
				"\n",
				"\n"
			]
		},
		{
			"cell_type": "markdown",
			"metadata": {},
			"source": [
				"## We got some results but it includes punctuations which adds complexity to our result set"
			]
		},
		{
			"cell_type": "markdown",
			"metadata": {},
			"source": [
				"We can use regex to improve our analysis"
			]
		},
		{
			"cell_type": "code",
			"execution_count": 10,
			"metadata": {
				"tags": [],
				"trusted": true,
				"vscode": {
					"languageId": "python_glue_session"
				}
			},
			"outputs": [
				{
					"name": "stdout",
					"output_type": "stream",
					"text": [
						"\n"
					]
				}
			],
			"source": [
				"import re\n",
				"def normalizeWords(lines):\n",
				"    return re.compile(r'\\W+', re.UNICODE).split(lines.lower())\n",
				"\n",
				"bucket_name = \"BUCKET_NAME\""
			]
		},
		{
			"cell_type": "code",
			"execution_count": null,
			"metadata": {
				"tags": [],
				"trusted": true,
				"vscode": {
					"languageId": "python_glue_session"
				}
			},
			"outputs": [],
			"source": [
				"lines = sc.textFile(bucket_name)\n",
				"words_rdd = lines.flatMap(normalizeWords)\n",
				"words_rdd.take(5)"
			]
		},
		{
			"cell_type": "code",
			"execution_count": null,
			"metadata": {
				"collapsed": true,
				"jupyter": {
					"outputs_hidden": true
				},
				"tags": [],
				"trusted": true,
				"vscode": {
					"languageId": "python_glue_session"
				}
			},
			"outputs": [],
			"source": [
				"word_counts = words_rdd.countByValue()\n",
				"for word, count in word_counts.items():\n",
				"    clean_word = word.encode('ascii', 'ignore')\n",
				"    if clean_word:\n",
				"        print(clean_word, count)\n"
			]
		},
		{
			"cell_type": "markdown",
			"metadata": {},
			"source": [
				"## Now, we also need to sort RDD to find most popular word in the book"
			]
		},
		{
			"cell_type": "markdown",
			"metadata": {},
			"source": [
				"To do that, we need a key-value RDD as we can only sort by keys. We can swap the keys to be the numbers and values to be the words that appear that number of times, and sort by key."
			]
		},
		{
			"cell_type": "code",
			"execution_count": null,
			"metadata": {
				"tags": [],
				"trusted": true,
				"vscode": {
					"languageId": "python_glue_session"
				}
			},
			"outputs": [],
			"source": [
				"word_counts_manual = words_rdd.map(lambda x: (x, 1)).reduceByKey(lambda x, y: x + y)\n",
				"word_counts_manual.take(5)"
			]
		},
		{
			"cell_type": "code",
			"execution_count": null,
			"metadata": {
				"tags": [],
				"trusted": true,
				"vscode": {
					"languageId": "python_glue_session"
				}
			},
			"outputs": [],
			"source": [
				"word_counts_manual_sorted = word_counts_manual.map(lambda x: (x[1], x[0])).sortByKey(ascending = False)\n",
				"for count, word in word_counts_manual_sorted.collect():\n",
				"    clean_word = word.encode('ascii', 'ignore')\n",
				"    if clean_word:\n",
				"        print(clean_word, count)"
			]
		}
	],
	"metadata": {
		"kernelspec": {
			"display_name": "Glue PySpark",
			"language": "python",
			"name": "glue_pyspark"
		},
		"language_info": {
			"codemirror_mode": {
				"name": "python",
				"version": 3
			},
			"file_extension": ".py",
			"mimetype": "text/x-python",
			"name": "Python_Glue_Session",
			"pygments_lexer": "python3"
		}
	},
	"nbformat": 4,
	"nbformat_minor": 4
}
