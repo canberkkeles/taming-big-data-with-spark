{
	"cells": [
		{
			"cell_type": "markdown",
			"metadata": {
				"editable": true,
				"trusted": true
			},
			"source": [
				"# AWS Glue Studio Notebook\n",
				"##### You are now running a AWS Glue Studio notebook; To start using your notebook you need to start an AWS Glue Interactive Session.\n"
			]
		},
		{
			"cell_type": "markdown",
			"metadata": {
				"editable": true,
				"trusted": true
			},
			"source": [
				"####  Run this cell to set up and start your interactive session.\n"
			]
		},
		{
			"cell_type": "code",
			"execution_count": null,
			"metadata": {
				"editable": true,
				"trusted": true,
				"vscode": {
					"languageId": "python_glue_session"
				}
			},
			"outputs": [],
			"source": [
				"%idle_timeout 2880\n",
				"%glue_version 4.0\n",
				"%worker_type G.1X\n",
				"%number_of_workers 5\n",
				"\n",
				"import sys\n",
				"from awsglue.transforms import *\n",
				"from awsglue.utils import getResolvedOptions\n",
				"from pyspark.context import SparkContext\n",
				"from awsglue.context import GlueContext\n",
				"from awsglue.job import Job\n",
				"  \n",
				"sc = SparkContext.getOrCreate()\n",
				"glueContext = GlueContext(sc)\n",
				"spark = glueContext.spark_session\n",
				"job = Job(glueContext)"
			]
		},
		{
			"cell_type": "code",
			"execution_count": 2,
			"metadata": {
				"tags": [],
				"trusted": true,
				"vscode": {
					"languageId": "python_glue_session"
				}
			},
			"outputs": [
				{
					"name": "stdout",
					"output_type": "stream",
					"text": [
						"['44,8602,37.19', '35,5368,65.89', '2,3391,40.64', '47,6694,14.98', '29,680,13.08']\n"
					]
				}
			],
			"source": [
				"bucket_name = \"BUCKET_NAME\"\n",
				"raw = sc.textFile(bucket_name)\n",
				"raw.take(5)\n"
			]
		},
		{
			"cell_type": "code",
			"execution_count": 5,
			"metadata": {
				"tags": [],
				"trusted": true,
				"vscode": {
					"languageId": "python_glue_session"
				}
			},
			"outputs": [
				{
					"name": "stdout",
					"output_type": "stream",
					"text": [
						"+-----------+-------+------------+\n",
						"|customer_id|item_id|amount_spent|\n",
						"+-----------+-------+------------+\n",
						"|         44|   8602|       37.19|\n",
						"|         35|   5368|       65.89|\n",
						"|          2|   3391|       40.64|\n",
						"|         47|   6694|       14.98|\n",
						"|         29|    680|       13.08|\n",
						"|         91|   8900|       24.59|\n",
						"|         70|   3959|       68.68|\n",
						"|         85|   1733|       28.53|\n",
						"|         53|   9900|       83.55|\n",
						"|         14|   1505|        4.32|\n",
						"|         51|   3378|        19.8|\n",
						"|         42|   6926|       57.77|\n",
						"|          2|   4424|       55.77|\n",
						"|         79|   9291|       33.17|\n",
						"|         50|   3901|       23.57|\n",
						"|         20|   6633|        6.49|\n",
						"|         15|   6148|       65.53|\n",
						"|         44|   8331|       99.19|\n",
						"|          5|   3505|       64.18|\n",
						"|         48|   5539|       32.42|\n",
						"+-----------+-------+------------+\n",
						"only showing top 20 rows\n"
					]
				}
			],
			"source": [
				"from pyspark.sql.types import StructType, IntegerType, FloatType, StructField\n",
				"from pyspark.sql import functions as func\n",
				"\n",
				"schema = StructType([\n",
				"    StructField(\"customer_id\", IntegerType(), True),\n",
				"    StructField(\"item_id\",IntegerType(),True),\n",
				"    StructField(\"amount_spent\",FloatType(),True)\n",
				"])\n",
				"order_df = spark.read.csv(bucket_name, schema=schema)\n",
				"order_df.show()"
			]
		},
		{
			"cell_type": "code",
			"execution_count": 10,
			"metadata": {
				"tags": [],
				"trusted": true,
				"vscode": {
					"languageId": "python_glue_session"
				}
			},
			"outputs": [
				{
					"name": "stdout",
					"output_type": "stream",
					"text": [
						"+-----------+------------+\n",
						"|customer_id|amount_spent|\n",
						"+-----------+------------+\n",
						"|         68|     6375.45|\n",
						"|         73|      6206.2|\n",
						"|         39|     6193.11|\n",
						"|         54|     6065.39|\n",
						"|         71|     5995.66|\n",
						"|          2|     5994.59|\n",
						"|         97|     5977.19|\n",
						"|         46|     5963.11|\n",
						"|         42|     5696.84|\n",
						"|         59|     5642.89|\n",
						"|         41|     5637.62|\n",
						"|          0|     5524.95|\n",
						"|          8|     5517.24|\n",
						"|         85|     5503.43|\n",
						"|         61|     5497.48|\n",
						"|         32|     5496.05|\n",
						"|         58|     5437.73|\n",
						"|         63|     5415.15|\n",
						"|         15|     5413.51|\n",
						"|          6|     5397.88|\n",
						"+-----------+------------+\n",
						"only showing top 20 rows\n"
					]
				}
			],
			"source": [
				"order_df.groupBy(\"customer_id\").agg(func.round(func.sum(\"amount_spent\"), 2).alias(\"amount_spent\")).sort(\"amount_spent\", ascending=False).show()"
			]
		}
	],
	"metadata": {
		"kernelspec": {
			"display_name": "Glue PySpark",
			"language": "python",
			"name": "glue_pyspark"
		},
		"language_info": {
			"codemirror_mode": {
				"name": "python",
				"version": 3
			},
			"file_extension": ".py",
			"mimetype": "text/x-python",
			"name": "Python_Glue_Session",
			"pygments_lexer": "python3"
		}
	},
	"nbformat": 4,
	"nbformat_minor": 4
}
