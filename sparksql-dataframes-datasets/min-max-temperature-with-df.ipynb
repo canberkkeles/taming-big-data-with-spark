{
	"cells": [
		{
			"cell_type": "markdown",
			"metadata": {
				"editable": true,
				"trusted": true
			},
			"source": [
				"# AWS Glue Studio Notebook\n",
				"##### You are now running a AWS Glue Studio notebook; To start using your notebook you need to start an AWS Glue Interactive Session.\n"
			]
		},
		{
			"cell_type": "markdown",
			"metadata": {
				"editable": true,
				"trusted": true
			},
			"source": [
				"####  Run this cell to set up and start your interactive session.\n"
			]
		},
		{
			"cell_type": "code",
			"execution_count": null,
			"metadata": {
				"editable": true,
				"trusted": true,
				"vscode": {
					"languageId": "python_glue_session"
				}
			},
			"outputs": [],
			"source": [
				"%idle_timeout 2880\n",
				"%glue_version 4.0\n",
				"%worker_type G.1X\n",
				"%number_of_workers 5\n",
				"\n",
				"import sys\n",
				"from awsglue.transforms import *\n",
				"from awsglue.utils import getResolvedOptions\n",
				"from pyspark.context import SparkContext\n",
				"from awsglue.context import GlueContext\n",
				"from awsglue.job import Job\n",
				"  \n",
				"sc = SparkContext.getOrCreate()\n",
				"glueContext = GlueContext(sc)\n",
				"spark = glueContext.spark_session\n",
				"job = Job(glueContext)"
			]
		},
		{
			"cell_type": "code",
			"execution_count": 1,
			"metadata": {
				"tags": [],
				"trusted": true,
				"vscode": {
					"languageId": "python_glue_session"
				}
			},
			"outputs": [
				{
					"name": "stdout",
					"output_type": "stream",
					"text": [
						"Welcome to the Glue Interactive Sessions Kernel\n",
						"For more information on available magic commands, please type %help in any new cell.\n",
						"\n",
						"Please view our Getting Started page to access the most up-to-date information on the Interactive Sessions kernel: https://docs.aws.amazon.com/glue/latest/dg/interactive-sessions.html\n",
						"Installed kernel version: 1.0.4 \n",
						"Trying to create a Glue session for the kernel.\n",
						"Session Type: glueetl\n",
						"Worker Type: G.1X\n",
						"Number of Workers: 5\n",
						"Session ID: 84dac13e-d023-4fb3-bb4f-f7c267907fa7\n",
						"Applying the following default arguments:\n",
						"--glue_kernel_version 1.0.4\n",
						"--enable-glue-datacatalog true\n",
						"Waiting for session 84dac13e-d023-4fb3-bb4f-f7c267907fa7 to get into ready status...\n",
						"Session 84dac13e-d023-4fb3-bb4f-f7c267907fa7 has been created.\n",
						"\n"
					]
				}
			],
			"source": [
				"from pyspark.sql import functions as func\n",
				"from pyspark.sql.types import StructType, StructField, StringType, IntegerType, FloatType\n",
				"bucket_name = \"BUCKET_NAME\"\n",
				"schema = StructType([\n",
				"    StructField(\"station_id\", StringType(), True),\n",
				"    StructField(\"date\", IntegerType(), True),\n",
				"    StructField(\"measurement_type\",StringType(),True),\n",
				"    StructField(\"temperature\",FloatType(),True)\n",
				"])\n",
				"\n"
			]
		},
		{
			"cell_type": "code",
			"execution_count": 2,
			"metadata": {
				"tags": [],
				"trusted": true,
				"vscode": {
					"languageId": "python_glue_session"
				}
			},
			"outputs": [
				{
					"name": "stdout",
					"output_type": "stream",
					"text": [
						"+-----------+--------+----------------+-----------+\n",
						"| station_id|    date|measurement_type|temperature|\n",
						"+-----------+--------+----------------+-----------+\n",
						"|ITE00100554|18000101|            TMAX|      -75.0|\n",
						"|ITE00100554|18000101|            TMIN|     -148.0|\n",
						"|GM000010962|18000101|            PRCP|        0.0|\n",
						"|EZE00100082|18000101|            TMAX|      -86.0|\n",
						"|EZE00100082|18000101|            TMIN|     -135.0|\n",
						"|ITE00100554|18000102|            TMAX|      -60.0|\n",
						"|ITE00100554|18000102|            TMIN|     -125.0|\n",
						"|GM000010962|18000102|            PRCP|        0.0|\n",
						"|EZE00100082|18000102|            TMAX|      -44.0|\n",
						"|EZE00100082|18000102|            TMIN|     -130.0|\n",
						"|ITE00100554|18000103|            TMAX|      -23.0|\n",
						"|ITE00100554|18000103|            TMIN|      -46.0|\n",
						"|GM000010962|18000103|            PRCP|        4.0|\n",
						"|EZE00100082|18000103|            TMAX|      -10.0|\n",
						"|EZE00100082|18000103|            TMIN|      -73.0|\n",
						"|ITE00100554|18000104|            TMAX|        0.0|\n",
						"|ITE00100554|18000104|            TMIN|      -13.0|\n",
						"|GM000010962|18000104|            PRCP|        0.0|\n",
						"|EZE00100082|18000104|            TMAX|      -55.0|\n",
						"|EZE00100082|18000104|            TMIN|      -74.0|\n",
						"+-----------+--------+----------------+-----------+\n",
						"only showing top 20 rows\n"
					]
				}
			],
			"source": [
				"measures = spark.read.csv(bucket_name,schema=schema)\n",
				"measures.show()"
			]
		},
		{
			"cell_type": "code",
			"execution_count": 18,
			"metadata": {
				"tags": [],
				"trusted": true,
				"vscode": {
					"languageId": "python_glue_session"
				}
			},
			"outputs": [
				{
					"name": "stdout",
					"output_type": "stream",
					"text": [
						"+-----------+----------------+\n",
						"| station_id|max(temperature)|\n",
						"+-----------+----------------+\n",
						"|EZE00100082|           323.0|\n",
						"|ITE00100554|           323.0|\n",
						"+-----------+----------------+\n"
					]
				}
			],
			"source": [
				"results_df = measures.filter(measures.measurement_type == \"TMAX\").groupBy(\"station_id\").max(\"temperature\")\n",
				"results_df.show()"
			]
		},
		{
			"cell_type": "code",
			"execution_count": 20,
			"metadata": {
				"tags": [],
				"trusted": true,
				"vscode": {
					"languageId": "python_glue_session"
				}
			},
			"outputs": [
				{
					"name": "stdout",
					"output_type": "stream",
					"text": [
						"+-----------+----------------+----------------------+\n",
						"| station_id|max(temperature)|temperature_in_celcius|\n",
						"+-----------+----------------+----------------------+\n",
						"|EZE00100082|           323.0|                  32.3|\n",
						"|ITE00100554|           323.0|                  32.3|\n",
						"+-----------+----------------+----------------------+\n"
					]
				}
			],
			"source": [
				"results_df.withColumn(\"temperature_in_celcius\",func.round((results_df[\"max(temperature)\"] / 10),2)).show()"
			]
		},
		{
			"cell_type": "markdown",
			"metadata": {},
			"source": [
				"## We can do the same for minimum temperature to."
			]
		},
		{
			"cell_type": "code",
			"execution_count": 21,
			"metadata": {
				"tags": [],
				"trusted": true,
				"vscode": {
					"languageId": "python_glue_session"
				}
			},
			"outputs": [
				{
					"name": "stdout",
					"output_type": "stream",
					"text": [
						"+-----------+----------------+\n",
						"| station_id|min(temperature)|\n",
						"+-----------+----------------+\n",
						"|EZE00100082|          -135.0|\n",
						"|ITE00100554|          -148.0|\n",
						"+-----------+----------------+\n"
					]
				}
			],
			"source": [
				"results_df = measures.filter(measures.measurement_type == \"TMIN\").groupBy(\"station_id\").min(\"temperature\")\n",
				"results_df.show()"
			]
		},
		{
			"cell_type": "code",
			"execution_count": 22,
			"metadata": {
				"tags": [],
				"trusted": true,
				"vscode": {
					"languageId": "python_glue_session"
				}
			},
			"outputs": [
				{
					"name": "stdout",
					"output_type": "stream",
					"text": [
						"+-----------+----------------+----------------------+\n",
						"| station_id|min(temperature)|temperature_in_celcius|\n",
						"+-----------+----------------+----------------------+\n",
						"|EZE00100082|          -135.0|                 -13.5|\n",
						"|ITE00100554|          -148.0|                 -14.8|\n",
						"+-----------+----------------+----------------------+\n"
					]
				}
			],
			"source": [
				"results_df.withColumn(\"temperature_in_celcius\",func.round((results_df[\"min(temperature)\"] / 10),2)).show()"
			]
		},
		{
			"cell_type": "code",
			"execution_count": null,
			"metadata": {
				"vscode": {
					"languageId": "python_glue_session"
				}
			},
			"outputs": [],
			"source": []
		}
	],
	"metadata": {
		"kernelspec": {
			"display_name": "Glue PySpark",
			"language": "python",
			"name": "glue_pyspark"
		},
		"language_info": {
			"codemirror_mode": {
				"name": "python",
				"version": 3
			},
			"file_extension": ".py",
			"mimetype": "text/x-python",
			"name": "Python_Glue_Session",
			"pygments_lexer": "python3"
		}
	},
	"nbformat": 4,
	"nbformat_minor": 4
}
